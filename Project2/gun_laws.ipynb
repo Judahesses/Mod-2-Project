{
 "cells": [
  {
   "cell_type": "code",
   "execution_count": 57,
   "metadata": {},
   "outputs": [],
   "source": [
    "from bs4 import BeautifulSoup\n",
    "import requests\n",
    "import pandas as pd"
   ]
  },
  {
   "cell_type": "code",
   "execution_count": 58,
   "metadata": {},
   "outputs": [],
   "source": [
    "html_page_2018 = requests.get('https://lawcenter.giffords.org/scorecard/#rankings') #Make a get request to retrieve the page\n",
    "soup_2018 = BeautifulSoup(html_page_2018.content, 'html.parser') #Pass the page contents to beautiful soup for parsing"
   ]
  },
  {
   "cell_type": "code",
   "execution_count": 59,
   "metadata": {},
   "outputs": [],
   "source": [
    "# find and extract all the headers (td) in the rankings-table located in the body\n",
    "container_2018 = soup_2018.find('table', id='rankings-table').tbody.find_all('td')"
   ]
  },
  {
   "cell_type": "code",
   "execution_count": 60,
   "metadata": {},
   "outputs": [],
   "source": [
    "# Lists to store the scraped data in\n",
    "states_2018 = []\n",
    "grades_2018 = []\n",
    "\n",
    "\n",
    "n_2018 = 5 # target every 5th element\n",
    "for i,x in enumerate(container_2018):\n",
    "    if i % n_2018 == 1: # return states at index 1\n",
    "        states_2018.append(x.text) \n",
    "    if i % n_2018 == 2: # return grades at index 2\n",
    "        grades_2018.append(x.text)"
   ]
  },
  {
   "cell_type": "code",
   "execution_count": 61,
   "metadata": {},
   "outputs": [],
   "source": [
    "# create pandas dataframe for 2018 gun laws\n",
    "laws_2018 = {'states': states_2018, \n",
    "             '2018': grades_2018}\n",
    "df_2018 = pd.DataFrame(laws_2018)"
   ]
  },
  {
   "cell_type": "code",
   "execution_count": 62,
   "metadata": {},
   "outputs": [],
   "source": [
    "html_page_2017 = requests.get('https://lawcenter.giffords.org/scorecard2017/') #Make a get request to retrieve the page\n",
    "soup_2017 = BeautifulSoup(html_page_2017.content, 'html.parser') #Pass the page contents to beautiful soup for parsing"
   ]
  },
  {
   "cell_type": "code",
   "execution_count": 78,
   "metadata": {},
   "outputs": [],
   "source": [
    "# find and extract all the headers (td) in the rankings-table located in the body\n",
    "container_2017 = soup_2017.find('table', id='rankings-table').tbody.find_all('td')"
   ]
  },
  {
   "cell_type": "code",
   "execution_count": 64,
   "metadata": {},
   "outputs": [],
   "source": [
    "# Lists to store the scraped data in\n",
    "states_2017 = []\n",
    "grades_2017 = []\n",
    "\n",
    "\n",
    "n_2017 = 5 # target every 5th element\n",
    "for i,x in enumerate(container_2017):\n",
    "    if i % n_2017 == 1: # return states at index 1\n",
    "        states_2017.append(x.text) \n",
    "    if i % n_2017 == 2: # return grades at index 2\n",
    "        grades_2017.append(x.text)"
   ]
  },
  {
   "cell_type": "code",
   "execution_count": 65,
   "metadata": {},
   "outputs": [],
   "source": [
    "# create pandas dataframe for 2017 gun laws\n",
    "laws_2017 = {'states': states_2017, \n",
    "             '2017': grades_2017}\n",
    "df_2017 = pd.DataFrame(laws_2017)"
   ]
  },
  {
   "cell_type": "code",
   "execution_count": 66,
   "metadata": {},
   "outputs": [],
   "source": [
    "# join 2018 gun laws dataframe on 2017 gun laws dataframe\n",
    "df_2017_2018 = df_2017.set_index('states').join(df_2018.set_index('states'))"
   ]
  },
  {
   "cell_type": "code",
   "execution_count": 67,
   "metadata": {},
   "outputs": [],
   "source": [
    "# read 2012-2016 gun law data\n",
    "df_2012_2016 = pd.read_excel('Gun_laws.xlsx')"
   ]
  },
  {
   "cell_type": "code",
   "execution_count": 68,
   "metadata": {},
   "outputs": [],
   "source": [
    "# concat 2012-2016 gun laws with 2017-2018 gun laws\n",
    "df = pd.concat([df_2012_2016, df_2017_2018], axis=1, join_axes=[df_2012_2016.index])"
   ]
  },
  {
   "cell_type": "code",
   "execution_count": 69,
   "metadata": {},
   "outputs": [],
   "source": [
    "# # drop duplicate state column\n",
    "# df = df.drop(columns='states')"
   ]
  },
  {
   "cell_type": "code",
   "execution_count": 70,
   "metadata": {},
   "outputs": [],
   "source": [
    "# drop extra 2017-2018 columns \n",
    "df = df.drop(['2017', '2018'], axis=1)"
   ]
  },
  {
   "cell_type": "code",
   "execution_count": 71,
   "metadata": {},
   "outputs": [],
   "source": [
    "# set State as index\n",
    "df = df.set_index('State')"
   ]
  },
  {
   "cell_type": "code",
   "execution_count": 72,
   "metadata": {},
   "outputs": [],
   "source": [
    "# drop extra 2017-2018 columns\n",
    "df = df.drop(['2017', '2018'])"
   ]
  },
  {
   "cell_type": "code",
   "execution_count": 77,
   "metadata": {},
   "outputs": [],
   "source": [
    "# overwrite Gun_laws.xlsx with this new saves pandas dataframe\n",
    "df.to_excel('Gun_laws.xlsx')"
   ]
  }
 ],
 "metadata": {
  "kernelspec": {
   "display_name": "Python 3",
   "language": "python",
   "name": "python3"
  },
  "language_info": {
   "codemirror_mode": {
    "name": "ipython",
    "version": 3
   },
   "file_extension": ".py",
   "mimetype": "text/x-python",
   "name": "python",
   "nbconvert_exporter": "python",
   "pygments_lexer": "ipython3",
   "version": "3.7.1"
  }
 },
 "nbformat": 4,
 "nbformat_minor": 2
}
