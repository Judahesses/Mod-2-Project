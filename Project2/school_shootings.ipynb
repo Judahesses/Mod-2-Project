{
 "cells": [
  {
   "cell_type": "code",
   "execution_count": 86,
   "metadata": {},
   "outputs": [],
   "source": [
    "import pandas as pd\n",
    "import numpy as np\n",
    "import matplotlib.pyplot as plt"
   ]
  },
  {
   "cell_type": "code",
   "execution_count": 1308,
   "metadata": {},
   "outputs": [],
   "source": [
    "# read our data from the 'K-12 SSDB (Public).xlsx' spreadsheet\n",
    "df = pd.read_excel('K-12 SSDB (Public).xlsx')"
   ]
  },
  {
   "cell_type": "code",
   "execution_count": 1309,
   "metadata": {},
   "outputs": [],
   "source": [
    "# change column header to correct information\n",
    "df.columns = df.iloc[0]"
   ]
  },
  {
   "cell_type": "code",
   "execution_count": 1310,
   "metadata": {},
   "outputs": [],
   "source": [
    "# remove the row that is now our column\n",
    "df = df.drop([0])"
   ]
  },
  {
   "cell_type": "code",
   "execution_count": 1311,
   "metadata": {},
   "outputs": [],
   "source": [
    "# sort our data by most recent shooting\n",
    "df = df.sort_index(axis=0, ascending=False)"
   ]
  },
  {
   "cell_type": "code",
   "execution_count": 1312,
   "metadata": {},
   "outputs": [],
   "source": [
    "# order the index now from 0 on\n",
    "df = df.reset_index(drop=True)"
   ]
  },
  {
   "cell_type": "code",
   "execution_count": 1313,
   "metadata": {},
   "outputs": [],
   "source": [
    "# Change timestap to 'YYYY-MM-DD'\n",
    "df['Date'] = df.Date.map(lambda x: x.strftime('%Y-%m-%d'))"
   ]
  },
  {
   "cell_type": "code",
   "execution_count": 1314,
   "metadata": {},
   "outputs": [],
   "source": [
    "# Create a column holding just the year of occurence ('YYYY')\n",
    "df['Year'] = [date[0:4] for date in df['Date']]"
   ]
  },
  {
   "cell_type": "code",
   "execution_count": 1315,
   "metadata": {},
   "outputs": [],
   "source": [
    "# read our data from the 'Gun_laws.xlsx' spreadsheet\n",
    "gun_laws_df = pd.read_excel('Gun_laws.xlsx')"
   ]
  },
  {
   "cell_type": "code",
   "execution_count": 1316,
   "metadata": {},
   "outputs": [],
   "source": [
    "# Set state as index\n",
    "gun_laws_df = gun_laws_df.set_index('State')"
   ]
  },
  {
   "cell_type": "code",
   "execution_count": 1317,
   "metadata": {},
   "outputs": [],
   "source": [
    "# convert the columns from strings to integers \n",
    "df['Year'] = pd.to_numeric(df['Year'])"
   ]
  },
  {
   "cell_type": "code",
   "execution_count": 1318,
   "metadata": {},
   "outputs": [
    {
     "data": {
      "text/plain": [
       "'F'"
      ]
     },
     "execution_count": 1318,
     "metadata": {},
     "output_type": "execute_result"
    }
   ],
   "source": [
    "# getting grade based of year and state ---- testing that this works \n",
    "gun_laws_df[gun_laws_df.columns[gun_laws_df.columns == 2018]].loc['AL'].values[0]"
   ]
  },
  {
   "cell_type": "code",
   "execution_count": 1319,
   "metadata": {},
   "outputs": [],
   "source": [
    "# create a for loop that dynamically gets us each grade based on each year and state\n",
    "df['Grade'] = np.nan\n",
    "grades = []\n",
    "for idx, row in df.iterrows():\n",
    "    try:\n",
    "        grade = gun_laws_df[gun_laws_df.columns[gun_laws_df.columns == row['Year']]].loc[row['State']].values[0]\n",
    "        grades.append(grade)  \n",
    "        \n",
    "    except:\n",
    "        grades.append(np.nan)\n",
    "        \n",
    "# create a new column called 'Grade' and insert the corresponding grades into the column\n",
    "df['Grade'] = grades"
   ]
  },
  {
   "cell_type": "code",
   "execution_count": 1320,
   "metadata": {},
   "outputs": [],
   "source": [
    "# read our data from the 'population.csv' spreadsheet\n",
    "population_df = pd.read_csv('population.csv')"
   ]
  },
  {
   "cell_type": "code",
   "execution_count": 1321,
   "metadata": {
    "scrolled": true
   },
   "outputs": [],
   "source": [
    "# set'State' column as DataFrame index\n",
    "population_df = population_df.set_index('State')"
   ]
  },
  {
   "cell_type": "code",
   "execution_count": 1322,
   "metadata": {},
   "outputs": [],
   "source": [
    "# drop column 'Unnamed: 0'\n",
    "population_df = population_df.drop(columns=['Unnamed: 0'])"
   ]
  },
  {
   "cell_type": "code",
   "execution_count": 1323,
   "metadata": {},
   "outputs": [],
   "source": [
    "# change header rows (dates) into ints\n",
    "population_df.columns = population_df.columns.map(int)"
   ]
  },
  {
   "cell_type": "code",
   "execution_count": 1324,
   "metadata": {},
   "outputs": [
    {
     "data": {
      "text/plain": [
       "'4,887,871'"
      ]
     },
     "execution_count": 1324,
     "metadata": {},
     "output_type": "execute_result"
    }
   ],
   "source": [
    "# getting grade based of year and state ---- testing that this works \n",
    "population_df[population_df.columns[population_df.columns == 2018]].loc['AL'].values[0]"
   ]
  },
  {
   "cell_type": "code",
   "execution_count": 1325,
   "metadata": {},
   "outputs": [],
   "source": [
    "# create a for loop that dynamically gets us each population based on each year and state\n",
    "df['Population'] = np.nan\n",
    "populations = []\n",
    "for idx, row in df.iterrows():\n",
    "    try:\n",
    "        population = population_df[population_df.columns[population_df.columns == row['Year']]].loc[row['State']].values[0]\n",
    "        populations.append(population) \n",
    "        \n",
    "    except:\n",
    "        populations.append(np.nan)\n",
    "\n",
    "# create a new column called 'Population' and insert the corresponding populations into the column\n",
    "df['Population'] = populations"
   ]
  },
  {
   "cell_type": "code",
   "execution_count": 1326,
   "metadata": {},
   "outputs": [],
   "source": [
    "# save file to csv\n",
    "df.to_csv('complete.csv')"
   ]
  },
  {
   "cell_type": "code",
   "execution_count": 1327,
   "metadata": {},
   "outputs": [],
   "source": [
    "# replace column name whitespaces with underscores \n",
    "df.columns = df.columns.str.replace(' ', '_')"
   ]
  },
  {
   "cell_type": "code",
   "execution_count": 1328,
   "metadata": {},
   "outputs": [],
   "source": [
    "# replace column name forward slash with underscores \n",
    "df.columns = df.columns.str.replace('/', '_')"
   ]
  },
  {
   "cell_type": "code",
   "execution_count": 1329,
   "metadata": {},
   "outputs": [],
   "source": [
    "# df.isna().sum()"
   ]
  },
  {
   "cell_type": "code",
   "execution_count": 1330,
   "metadata": {},
   "outputs": [],
   "source": [
    "# dropping columns due to the amount of NaN's\n",
    "df = df.drop(columns=['Shooter_Ethnicity', 'Shooter_had_an_accomplice_who_did_not_fire_gun_(Y_N)'])"
   ]
  },
  {
   "cell_type": "code",
   "execution_count": 1331,
   "metadata": {},
   "outputs": [],
   "source": [
    "# strip commas from population \n",
    "# df['Population'] = df['Population'].str.replace(',', '')"
   ]
  },
  {
   "cell_type": "code",
   "execution_count": 1332,
   "metadata": {},
   "outputs": [],
   "source": [
    "# turns the entire DataFra\n",
    "df = df.apply(pd.to_numeric, errors='ignore')"
   ]
  },
  {
   "cell_type": "code",
   "execution_count": 1333,
   "metadata": {},
   "outputs": [],
   "source": [
    "# mae a groupby DataFrame with multiIndex('State', 'Year') and add aggregates\n",
    "df_group = df.groupby(['State', 'Year']).agg({'Date': 'count', 'Grade': 'first', 'Population': 'first', 'Killed_(includes_shooter)': 'sum', 'Wounded': 'sum', 'Total_Injured_Killed_Victims': sum, 'Number_of_Shots_Fired': 'count'})"
   ]
  },
  {
   "cell_type": "code",
   "execution_count": 1334,
   "metadata": {
    "scrolled": true
   },
   "outputs": [],
   "source": [
    "# stack gun_laws_df so we can easily join it on the df_group\n",
    "gun_laws_df = gun_laws_df.stack()"
   ]
  },
  {
   "cell_type": "code",
   "execution_count": 1344,
   "metadata": {
    "scrolled": true
   },
   "outputs": [],
   "source": [
    "df_laws = gun_laws_df.to_frame() # use to_frame to convert Series to DataFrame\n",
    "df_laws = df_laws.rename(columns= {0: 'Grade'}) # rename column from 0 to 'Grade'\n",
    "df_laws = df_laws.rename_axis(['State', 'Year']) # rename the axis to match df_group ('State', 'Year')"
   ]
  },
  {
   "cell_type": "code",
   "execution_count": 1336,
   "metadata": {},
   "outputs": [],
   "source": [
    "# stack gun_laws_df so we can easily join it on the df_group\n",
    "population_df = population_df.stack()"
   ]
  },
  {
   "cell_type": "code",
   "execution_count": 1343,
   "metadata": {
    "scrolled": true
   },
   "outputs": [],
   "source": [
    "df_pop = population_df.to_frame() # use to_frame to convert Series to DataFrame\n",
    "df_pop = df_pop.rename(columns= {0: 'Population'}) # rename column from 0 to 'Population'\n",
    "df_pop = df_pop.rename_axis(['State', 'Year']) # rename the axis to match df_group ('State', 'Year')"
   ]
  },
  {
   "cell_type": "code",
   "execution_count": 1338,
   "metadata": {},
   "outputs": [],
   "source": [
    "# concat (merge) all 3 DataFrames into one and fill NaN values to be 0 value\n",
    "df_final = pd.concat([df_laws, df_pop, df_group], axis=1).fillna(0)"
   ]
  },
  {
   "cell_type": "code",
   "execution_count": 1339,
   "metadata": {},
   "outputs": [],
   "source": [
    "# remove any duplicated columns\n",
    "df_final = df_final.loc[:,~df_final.columns.duplicated()]"
   ]
  },
  {
   "cell_type": "code",
   "execution_count": 1341,
   "metadata": {},
   "outputs": [],
   "source": [
    "# save file to csv\n",
    "df_final.to_csv('final.csv')"
   ]
  },
  {
   "cell_type": "code",
   "execution_count": 3,
   "metadata": {},
   "outputs": [],
   "source": [
    "# read our data from the 'Grades.Pop.Incidences.csv' spreadsheet\n",
    "grades_pop_incidences_df = pd.read_csv('Grades.Pop.Incidences.csv')"
   ]
  },
  {
   "cell_type": "code",
   "execution_count": 8,
   "metadata": {},
   "outputs": [],
   "source": [
    "grades_pop_incidences_df = grades_pop_incidences_df.drop(columns='Unnamed: 0')"
   ]
  },
  {
   "cell_type": "code",
   "execution_count": 13,
   "metadata": {},
   "outputs": [
    {
     "data": {
      "text/plain": [
       "576608"
      ]
     },
     "execution_count": 13,
     "metadata": {},
     "output_type": "execute_result"
    }
   ],
   "source": [
    "# min population\n",
    "grades_pop_incidences_df['Population'].min()"
   ]
  },
  {
   "cell_type": "code",
   "execution_count": 14,
   "metadata": {},
   "outputs": [
    {
     "data": {
      "text/plain": [
       "39557045"
      ]
     },
     "execution_count": 14,
     "metadata": {},
     "output_type": "execute_result"
    }
   ],
   "source": [
    "# max population \n",
    "grades_pop_incidences_df['Population'].max()"
   ]
  },
  {
   "cell_type": "code",
   "execution_count": 66,
   "metadata": {},
   "outputs": [],
   "source": [
    "# population amount by quantile\n",
    "quant_0 = grades_pop_incidences_df['Population'].quantile(.0)\n",
    "quant_10th= grades_pop_incidences_df['Population'].quantile(.1)\n",
    "quant_20th= grades_pop_incidences_df['Population'].quantile(.2)\n",
    "quant_30th= grades_pop_incidences_df['Population'].quantile(.3)\n",
    "quant_40th= grades_pop_incidences_df['Population'].quantile(.4)\n",
    "quant_50th= grades_pop_incidences_df['Population'].quantile(.5)\n",
    "quant_60th= grades_pop_incidences_df['Population'].quantile(.6)\n",
    "quant_70th= grades_pop_incidences_df['Population'].quantile(.7)\n",
    "quant_80th= grades_pop_incidences_df['Population'].quantile(.8)\n",
    "quant_90th= grades_pop_incidences_df['Population'].quantile(.9)\n",
    "quant_100th= grades_pop_incidences_df['Population'].quantile(1)"
   ]
  },
  {
   "cell_type": "code",
   "execution_count": 108,
   "metadata": {},
   "outputs": [],
   "source": [
    "# create a new DataFrame with even amount of bins by population with the population count and the sum of incidences between those population ranges\n",
    "bins = pd.cut(grades_pop_incidences_df['Population'], [quant_0, quant_10th,quant_20th,quant_30th,quant_40th,quant_50th, quant_60th, quant_70th, quant_80th, quant_90th, quant_100th])            \n",
    "pop_binned_df = grades_pop_incidences_df.groupby(bins).agg({'Population': 'count', 'Incidences': 'sum'})"
   ]
  },
  {
   "cell_type": "code",
   "execution_count": 110,
   "metadata": {},
   "outputs": [
    {
     "data": {
      "text/html": [
       "<div>\n",
       "<style scoped>\n",
       "    .dataframe tbody tr th:only-of-type {\n",
       "        vertical-align: middle;\n",
       "    }\n",
       "\n",
       "    .dataframe tbody tr th {\n",
       "        vertical-align: top;\n",
       "    }\n",
       "\n",
       "    .dataframe thead th {\n",
       "        text-align: right;\n",
       "    }\n",
       "</style>\n",
       "<table border=\"1\" class=\"dataframe\">\n",
       "  <thead>\n",
       "    <tr style=\"text-align: right;\">\n",
       "      <th></th>\n",
       "      <th>Population</th>\n",
       "      <th>Incidences</th>\n",
       "    </tr>\n",
       "    <tr>\n",
       "      <th>Population</th>\n",
       "      <th></th>\n",
       "      <th></th>\n",
       "    </tr>\n",
       "  </thead>\n",
       "  <tbody>\n",
       "    <tr>\n",
       "      <th>(576608.0, 913404.7]</th>\n",
       "      <td>34</td>\n",
       "      <td>8.0</td>\n",
       "    </tr>\n",
       "    <tr>\n",
       "      <th>(913404.7, 1385509.2]</th>\n",
       "      <td>35</td>\n",
       "      <td>11.0</td>\n",
       "    </tr>\n",
       "    <tr>\n",
       "      <th>(1385509.2, 2555315.4]</th>\n",
       "      <td>35</td>\n",
       "      <td>8.0</td>\n",
       "    </tr>\n",
       "    <tr>\n",
       "      <th>(2555315.4, 3097050.2]</th>\n",
       "      <td>35</td>\n",
       "      <td>16.0</td>\n",
       "    </tr>\n",
       "    <tr>\n",
       "      <th>(3097050.2, 4535541.5]</th>\n",
       "      <td>35</td>\n",
       "      <td>23.0</td>\n",
       "    </tr>\n",
       "    <tr>\n",
       "      <th>(4535541.5, 5705768.4]</th>\n",
       "      <td>35</td>\n",
       "      <td>32.0</td>\n",
       "    </tr>\n",
       "    <tr>\n",
       "      <th>(5705768.4, 6674336.0]</th>\n",
       "      <td>35</td>\n",
       "      <td>30.0</td>\n",
       "    </tr>\n",
       "    <tr>\n",
       "      <th>(6674336.0, 9155575.0]</th>\n",
       "      <td>35</td>\n",
       "      <td>32.0</td>\n",
       "    </tr>\n",
       "    <tr>\n",
       "      <th>(9155575.0, 12802374.4]</th>\n",
       "      <td>35</td>\n",
       "      <td>71.0</td>\n",
       "    </tr>\n",
       "    <tr>\n",
       "      <th>(12802374.4, 39557045.0]</th>\n",
       "      <td>35</td>\n",
       "      <td>83.0</td>\n",
       "    </tr>\n",
       "  </tbody>\n",
       "</table>\n",
       "</div>"
      ],
      "text/plain": [
       "                          Population  Incidences\n",
       "Population                                      \n",
       "(576608.0, 913404.7]              34         8.0\n",
       "(913404.7, 1385509.2]             35        11.0\n",
       "(1385509.2, 2555315.4]            35         8.0\n",
       "(2555315.4, 3097050.2]            35        16.0\n",
       "(3097050.2, 4535541.5]            35        23.0\n",
       "(4535541.5, 5705768.4]            35        32.0\n",
       "(5705768.4, 6674336.0]            35        30.0\n",
       "(6674336.0, 9155575.0]            35        32.0\n",
       "(9155575.0, 12802374.4]           35        71.0\n",
       "(12802374.4, 39557045.0]          35        83.0"
      ]
     },
     "execution_count": 110,
     "metadata": {},
     "output_type": "execute_result"
    }
   ],
   "source": [
    "pop_binned_df"
   ]
  },
  {
   "cell_type": "code",
   "execution_count": 109,
   "metadata": {},
   "outputs": [
    {
     "data": {
      "text/plain": [
       "Text(0.5, 1.0, 'Incidence by Population Range')"
      ]
     },
     "execution_count": 109,
     "metadata": {},
     "output_type": "execute_result"
    },
    {
     "data": {
      "image/png": "[encoded data removed]",
      "text/plain": [
       "<Figure size 1440x720 with 1 Axes>"
      ]
     },
     "metadata": {
      "needs_background": "light"
     },
     "output_type": "display_data"
    }
   ],
   "source": [
    "plt.figure(figsize=(20,10))\n",
    "ax = pop_binned_df['Incidences'].plot.bar(rot=80)\n",
    "plt.xlabel('Population Range', size=20)\n",
    "plt.ylabel('Incidence Count', size=20)\n",
    "plt.title('Incidence by Population Range', size=25)"
   ]
  },
  {
   "cell_type": "code",
   "execution_count": 107,
   "metadata": {},
   "outputs": [],
   "source": [
    "# what we see from the above is that the larger the population, the more incidence have occured. "
   ]
  }
 ],
 "metadata": {
  "kernelspec": {
   "display_name": "Python 3",
   "language": "python",
   "name": "python3"
  },
  "language_info": {
   "codemirror_mode": {
    "name": "ipython",
    "version": 3
   },
   "file_extension": ".py",
   "mimetype": "text/x-python",
   "name": "python",
   "nbconvert_exporter": "python",
   "pygments_lexer": "ipython3",
   "version": "3.7.1"
  }
 },
 "nbformat": 4,
 "nbformat_minor": 2
}
