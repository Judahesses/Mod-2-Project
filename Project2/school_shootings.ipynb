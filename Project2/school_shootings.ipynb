{
 "cells": [
  {
   "cell_type": "code",
   "execution_count": 372,
   "metadata": {},
   "outputs": [],
   "source": [
    "import pandas as pd\n",
    "import numpy as np"
   ]
  },
  {
   "cell_type": "code",
   "execution_count": 373,
   "metadata": {},
   "outputs": [],
   "source": [
    "# read our data from the 'K-12 SSDB (Public).xlsx' spreadsheet\n",
    "df = pd.read_excel('K-12 SSDB (Public).xlsx')"
   ]
  },
  {
   "cell_type": "code",
   "execution_count": 374,
   "metadata": {},
   "outputs": [],
   "source": [
    "# change column header to correct information\n",
    "df.columns = df.iloc[0]"
   ]
  },
  {
   "cell_type": "code",
   "execution_count": 375,
   "metadata": {},
   "outputs": [],
   "source": [
    "# remove the row that is now our column\n",
    "df = df.drop([0])"
   ]
  },
  {
   "cell_type": "code",
   "execution_count": 376,
   "metadata": {},
   "outputs": [],
   "source": [
    "# sort our data by most recent shooting\n",
    "df = df.sort_index(axis=0, ascending=False)"
   ]
  },
  {
   "cell_type": "code",
   "execution_count": 377,
   "metadata": {},
   "outputs": [],
   "source": [
    "# order the index now from 0 on\n",
    "df = df.reset_index(drop=True)"
   ]
  },
  {
   "cell_type": "code",
   "execution_count": 378,
   "metadata": {},
   "outputs": [],
   "source": [
    "# Change timestap to 'YYYY-MM-DD'\n",
    "df['Date'] = df.Date.map(lambda x: x.strftime('%Y-%m-%d'))"
   ]
  },
  {
   "cell_type": "code",
   "execution_count": 379,
   "metadata": {},
   "outputs": [],
   "source": [
    "# Create a column holding just the year of occurence ('YYYY')\n",
    "df['Year'] = [date[0:4] for date in df['Date']]"
   ]
  },
  {
   "cell_type": "code",
   "execution_count": 380,
   "metadata": {},
   "outputs": [],
   "source": [
    "# read our data from the 'Gun_laws.xlsx' spreadsheet\n",
    "gun_laws_df = pd.read_excel('Gun_laws.xlsx')"
   ]
  },
  {
   "cell_type": "code",
   "execution_count": 381,
   "metadata": {},
   "outputs": [],
   "source": [
    "# Set state as index\n",
    "gun_laws_df = gun_laws_df.set_index('State')"
   ]
  },
  {
   "cell_type": "code",
   "execution_count": 382,
   "metadata": {},
   "outputs": [],
   "source": [
    "# convert the columns from strings to integers \n",
    "df['Year'] = pd.to_numeric(df['Year'])"
   ]
  },
  {
   "cell_type": "code",
   "execution_count": 383,
   "metadata": {},
   "outputs": [
    {
     "data": {
      "text/plain": [
       "'F'"
      ]
     },
     "execution_count": 383,
     "metadata": {},
     "output_type": "execute_result"
    }
   ],
   "source": [
    "# getting grade based of year and state ---- testing that this works \n",
    "gun_laws_df[gun_laws_df.columns[gun_laws_df.columns == 2018]].loc['AL'].values[0]"
   ]
  },
  {
   "cell_type": "code",
   "execution_count": 384,
   "metadata": {},
   "outputs": [],
   "source": [
    "# create a for loop that dynamically gets us each grade based on each year and state\n",
    "df['Grade'] = 'NaN'\n",
    "grades = []\n",
    "for idx, row in df.iterrows():\n",
    "    try:\n",
    "        grade = gun_laws_df[gun_laws_df.columns[gun_laws_df.columns == row['Year']]].loc[row['State']].values[0]\n",
    "        grades.append(grade)  \n",
    "        \n",
    "    except:\n",
    "        grades.append('NaN')\n",
    "        \n",
    "# create a new column called 'Grade' and insert the corresponding grades into the column\n",
    "df['Grade'] = grades"
   ]
  },
  {
   "cell_type": "code",
   "execution_count": 385,
   "metadata": {},
   "outputs": [],
   "source": [
    "# read our data from the 'population.csv' spreadsheet\n",
    "population_df = pd.read_csv('population.csv')"
   ]
  },
  {
   "cell_type": "code",
   "execution_count": 386,
   "metadata": {
    "scrolled": true
   },
   "outputs": [],
   "source": [
    "# set'State' column as DataFrame index\n",
    "population_df = population_df.set_index('State')"
   ]
  },
  {
   "cell_type": "code",
   "execution_count": 387,
   "metadata": {},
   "outputs": [],
   "source": [
    "# drop column 'Unnamed: 0'\n",
    "population_df = population_df.drop(columns=['Unnamed: 0'])"
   ]
  },
  {
   "cell_type": "code",
   "execution_count": 388,
   "metadata": {},
   "outputs": [],
   "source": [
    "# change header rows (dates) into ints\n",
    "population_df.columns = population_df.columns.map(int)"
   ]
  },
  {
   "cell_type": "code",
   "execution_count": 389,
   "metadata": {},
   "outputs": [
    {
     "data": {
      "text/plain": [
       "'4,887,871'"
      ]
     },
     "execution_count": 389,
     "metadata": {},
     "output_type": "execute_result"
    }
   ],
   "source": [
    "# getting grade based of year and state ---- testing that this works \n",
    "population_df[population_df.columns[population_df.columns == 2018]].loc['AL'].values[0]"
   ]
  },
  {
   "cell_type": "code",
   "execution_count": 390,
   "metadata": {},
   "outputs": [],
   "source": [
    "# create a for loop that dynamically gets us each population based on each year and state\n",
    "df['Population'] = 'NaN'\n",
    "populations = []\n",
    "for idx, row in df.iterrows():\n",
    "    try:\n",
    "        population = population_df[population_df.columns[population_df.columns == row['Year']]].loc[row['State']].values[0]\n",
    "        populations.append(population) \n",
    "        \n",
    "    except:\n",
    "        populations.append('NaN')\n",
    "\n",
    "# create a new column called 'Population' and insert the corresponding populations into the column\n",
    "df['Population'] = populations"
   ]
  },
  {
   "cell_type": "code",
   "execution_count": 391,
   "metadata": {},
   "outputs": [],
   "source": [
    "# save file to csv\n",
    "df.to_csv('complete.csv')"
   ]
  }
 ],
 "metadata": {
  "kernelspec": {
   "display_name": "Python 3",
   "language": "python",
   "name": "python3"
  },
  "language_info": {
   "codemirror_mode": {
    "name": "ipython",
    "version": 3
   },
   "file_extension": ".py",
   "mimetype": "text/x-python",
   "name": "python",
   "nbconvert_exporter": "python",
   "pygments_lexer": "ipython3",
   "version": "3.7.1"
  }
 },
 "nbformat": 4,
 "nbformat_minor": 2
}
