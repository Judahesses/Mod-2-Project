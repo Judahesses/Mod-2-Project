{
 "cells": [
  {
   "cell_type": "code",
   "execution_count": 122,
   "metadata": {},
   "outputs": [],
   "source": [
    "import pandas as pd\n",
    "import numpy as np"
   ]
  },
  {
   "cell_type": "code",
   "execution_count": 123,
   "metadata": {},
   "outputs": [],
   "source": [
    "# read our data from the 'K-12 SSDB (Public).xlsx' spreadsheet\n",
    "df = pd.read_excel('K-12 SSDB (Public).xlsx')"
   ]
  },
  {
   "cell_type": "code",
   "execution_count": 124,
   "metadata": {},
   "outputs": [],
   "source": [
    "# change column header to correct information\n",
    "df.columns = df.iloc[0]"
   ]
  },
  {
   "cell_type": "code",
   "execution_count": 125,
   "metadata": {},
   "outputs": [],
   "source": [
    "# remove the row that is now our column\n",
    "df = df.drop([0])"
   ]
  },
  {
   "cell_type": "code",
   "execution_count": 126,
   "metadata": {},
   "outputs": [],
   "source": [
    "# sort our data by most recent shooting\n",
    "df = df.sort_index(axis=0, ascending=False)"
   ]
  },
  {
   "cell_type": "code",
   "execution_count": 127,
   "metadata": {},
   "outputs": [],
   "source": [
    "# order the index now from 0 on\n",
    "df = df.reset_index(drop=True)"
   ]
  },
  {
   "cell_type": "code",
   "execution_count": 128,
   "metadata": {},
   "outputs": [],
   "source": [
    "# Change timestap to 'YYYY-MM-DD'\n",
    "df['Date'] = df.Date.map(lambda x: x.strftime('%Y-%m-%d'))"
   ]
  },
  {
   "cell_type": "code",
   "execution_count": 129,
   "metadata": {},
   "outputs": [],
   "source": [
    "# Create a column holding just the year of occurence ('YYYY')\n",
    "df['Year'] = [date[0:4] for date in df['Date']]"
   ]
  },
  {
   "cell_type": "code",
   "execution_count": 130,
   "metadata": {},
   "outputs": [],
   "source": [
    "# read our data from the 'Gun_laws.xlsx' spreadsheet\n",
    "gun_laws_df = pd.read_excel('Gun_laws.xlsx')"
   ]
  },
  {
   "cell_type": "code",
   "execution_count": 131,
   "metadata": {},
   "outputs": [],
   "source": [
    "# Set state as index\n",
    "gun_laws_df = gun_laws_df.set_index('State')"
   ]
  },
  {
   "cell_type": "code",
   "execution_count": 136,
   "metadata": {},
   "outputs": [],
   "source": [
    "# convert the columns from strings to integers \n",
    "df['Year'] = pd.to_numeric(df['Year'])"
   ]
  },
  {
   "cell_type": "code",
   "execution_count": 154,
   "metadata": {},
   "outputs": [
    {
     "data": {
      "text/plain": [
       "'F'"
      ]
     },
     "execution_count": 154,
     "metadata": {},
     "output_type": "execute_result"
    }
   ],
   "source": [
    "# getting grade based of year and state ---- testing that this works \n",
    "gun_laws_df[gun_laws_df.columns[gun_laws_df.columns == 2018]].loc['AL'].values[0]"
   ]
  },
  {
   "cell_type": "code",
   "execution_count": 157,
   "metadata": {},
   "outputs": [],
   "source": [
    "# create a for loop that dynamically gets us each grade based on every year and every state\n",
    "df['Grade'] = 'NaN'\n",
    "grades = []\n",
    "for idx, row in df.iterrows():\n",
    "    try:\n",
    "        grade = gun_laws_df[gun_laws_df.columns[gun_laws_df.columns == row['Year']]].loc[row['State']].values[0]\n",
    "        grades.append(grade)  \n",
    "        \n",
    "    except:\n",
    "        grades.append('NaN')\n",
    "        \n",
    "# create a new column called 'Grade' and insert the corresponding grades into the column\n",
    "df['Grade'] = grades"
   ]
  },
  {
   "cell_type": "code",
   "execution_count": 156,
   "metadata": {},
   "outputs": [
    {
     "data": {
      "text/html": [
       "<div>\n",
       "<style scoped>\n",
       "    .dataframe tbody tr th:only-of-type {\n",
       "        vertical-align: middle;\n",
       "    }\n",
       "\n",
       "    .dataframe tbody tr th {\n",
       "        vertical-align: top;\n",
       "    }\n",
       "\n",
       "    .dataframe thead th {\n",
       "        text-align: right;\n",
       "    }\n",
       "</style>\n",
       "<table border=\"1\" class=\"dataframe\">\n",
       "  <thead>\n",
       "    <tr style=\"text-align: right;\">\n",
       "      <th></th>\n",
       "      <th>Date</th>\n",
       "      <th>School</th>\n",
       "      <th>City</th>\n",
       "      <th>State</th>\n",
       "      <th>Reliability Score (1-5)</th>\n",
       "      <th>Killed (includes shooter)</th>\n",
       "      <th>Wounded</th>\n",
       "      <th>Total Injured/Killed Victims</th>\n",
       "      <th>Gender of Victims (M/F/Both)</th>\n",
       "      <th>Victim's Affiliation w/ School</th>\n",
       "      <th>...</th>\n",
       "      <th>Shooter Name</th>\n",
       "      <th>Shooter Age</th>\n",
       "      <th>Shooter Gender</th>\n",
       "      <th>Shooter Race</th>\n",
       "      <th>Shooter Ethnicity</th>\n",
       "      <th>Shooter's Affiliation with School</th>\n",
       "      <th>Shooter had an accomplice who did not fire gun (Y/N)</th>\n",
       "      <th>Hostages Taken (Y/N)</th>\n",
       "      <th>Year</th>\n",
       "      <th>Grade</th>\n",
       "    </tr>\n",
       "  </thead>\n",
       "  <tbody>\n",
       "    <tr>\n",
       "      <th>0</th>\n",
       "      <td>2019-02-17</td>\n",
       "      <td>Eaglecrest High School</td>\n",
       "      <td>Aurora</td>\n",
       "      <td>CO</td>\n",
       "      <td>4</td>\n",
       "      <td>1</td>\n",
       "      <td>0</td>\n",
       "      <td>1</td>\n",
       "      <td>Male</td>\n",
       "      <td>Principal/Vice-Principal</td>\n",
       "      <td>...</td>\n",
       "      <td>Marcus Johnson</td>\n",
       "      <td>31</td>\n",
       "      <td>M</td>\n",
       "      <td>Black</td>\n",
       "      <td>Not Hispanic or Latino</td>\n",
       "      <td>No Relation</td>\n",
       "      <td>N</td>\n",
       "      <td>N</td>\n",
       "      <td>2019</td>\n",
       "      <td>NaN</td>\n",
       "    </tr>\n",
       "    <tr>\n",
       "      <th>1</th>\n",
       "      <td>2019-02-14</td>\n",
       "      <td>V. Sue Cleveland High School</td>\n",
       "      <td>Rio Rancho</td>\n",
       "      <td>NM</td>\n",
       "      <td>4</td>\n",
       "      <td>0</td>\n",
       "      <td>0</td>\n",
       "      <td>0</td>\n",
       "      <td>No Victims</td>\n",
       "      <td>No Victims</td>\n",
       "      <td>...</td>\n",
       "      <td>Joshua Owen</td>\n",
       "      <td>16</td>\n",
       "      <td>M</td>\n",
       "      <td>Unknown</td>\n",
       "      <td>Unknown</td>\n",
       "      <td>Student</td>\n",
       "      <td>N</td>\n",
       "      <td>N</td>\n",
       "      <td>2019</td>\n",
       "      <td>NaN</td>\n",
       "    </tr>\n",
       "    <tr>\n",
       "      <th>2</th>\n",
       "      <td>2019-02-08</td>\n",
       "      <td>Frederick Douglass High School</td>\n",
       "      <td>Baltimore</td>\n",
       "      <td>MD</td>\n",
       "      <td>4</td>\n",
       "      <td>0</td>\n",
       "      <td>1</td>\n",
       "      <td>1</td>\n",
       "      <td>Male</td>\n",
       "      <td>Other Staff</td>\n",
       "      <td>...</td>\n",
       "      <td>Neil Davis</td>\n",
       "      <td>25</td>\n",
       "      <td>M</td>\n",
       "      <td>Black</td>\n",
       "      <td>Not Hispanic or Latino</td>\n",
       "      <td>No Relation</td>\n",
       "      <td>N</td>\n",
       "      <td>N</td>\n",
       "      <td>2019</td>\n",
       "      <td>NaN</td>\n",
       "    </tr>\n",
       "    <tr>\n",
       "      <th>3</th>\n",
       "      <td>2019-02-05</td>\n",
       "      <td>Minneapolis School District Bus</td>\n",
       "      <td>Minneapolis</td>\n",
       "      <td>MN</td>\n",
       "      <td>3</td>\n",
       "      <td>0</td>\n",
       "      <td>1</td>\n",
       "      <td>1</td>\n",
       "      <td>Male</td>\n",
       "      <td>Other Staff</td>\n",
       "      <td>...</td>\n",
       "      <td>Kenneth Lilli</td>\n",
       "      <td>31</td>\n",
       "      <td>M</td>\n",
       "      <td>Unknown</td>\n",
       "      <td>Unknown</td>\n",
       "      <td>No Relation</td>\n",
       "      <td>N</td>\n",
       "      <td>N</td>\n",
       "      <td>2019</td>\n",
       "      <td>NaN</td>\n",
       "    </tr>\n",
       "    <tr>\n",
       "      <th>4</th>\n",
       "      <td>2019-01-31</td>\n",
       "      <td>Atascocita High School</td>\n",
       "      <td>Atascocita</td>\n",
       "      <td>TX</td>\n",
       "      <td>4</td>\n",
       "      <td>0</td>\n",
       "      <td>1</td>\n",
       "      <td>1</td>\n",
       "      <td>Male</td>\n",
       "      <td>Student</td>\n",
       "      <td>...</td>\n",
       "      <td>Unknown</td>\n",
       "      <td>NaN</td>\n",
       "      <td>M</td>\n",
       "      <td>Unknown</td>\n",
       "      <td>Unknown</td>\n",
       "      <td>Student</td>\n",
       "      <td>Y</td>\n",
       "      <td>N</td>\n",
       "      <td>2019</td>\n",
       "      <td>NaN</td>\n",
       "    </tr>\n",
       "  </tbody>\n",
       "</table>\n",
       "<p>5 rows × 50 columns</p>\n",
       "</div>"
      ],
      "text/plain": [
       "0        Date                           School         City State  \\\n",
       "0  2019-02-17           Eaglecrest High School       Aurora    CO   \n",
       "1  2019-02-14     V. Sue Cleveland High School   Rio Rancho    NM   \n",
       "2  2019-02-08   Frederick Douglass High School    Baltimore    MD   \n",
       "3  2019-02-05  Minneapolis School District Bus  Minneapolis    MN   \n",
       "4  2019-01-31           Atascocita High School   Atascocita    TX   \n",
       "\n",
       "0 Reliability Score (1-5) Killed (includes shooter) Wounded  \\\n",
       "0                       4                         1       0   \n",
       "1                       4                         0       0   \n",
       "2                       4                         0       1   \n",
       "3                       3                         0       1   \n",
       "4                       4                         0       1   \n",
       "\n",
       "0 Total Injured/Killed Victims Gender of Victims (M/F/Both)  \\\n",
       "0                            1                         Male   \n",
       "1                            0                   No Victims   \n",
       "2                            1                         Male   \n",
       "3                            1                         Male   \n",
       "4                            1                         Male   \n",
       "\n",
       "0 Victim's Affiliation w/ School  ...     Shooter Name Shooter Age  \\\n",
       "0       Principal/Vice-Principal  ...   Marcus Johnson          31   \n",
       "1                     No Victims  ...      Joshua Owen          16   \n",
       "2                    Other Staff  ...       Neil Davis          25   \n",
       "3                    Other Staff  ...    Kenneth Lilli          31   \n",
       "4                        Student  ...          Unknown         NaN   \n",
       "\n",
       "0 Shooter Gender Shooter Race       Shooter Ethnicity  \\\n",
       "0              M        Black  Not Hispanic or Latino   \n",
       "1              M      Unknown                 Unknown   \n",
       "2              M        Black  Not Hispanic or Latino   \n",
       "3              M      Unknown                 Unknown   \n",
       "4              M      Unknown                 Unknown   \n",
       "\n",
       "0 Shooter's Affiliation with School  \\\n",
       "0                       No Relation   \n",
       "1                           Student   \n",
       "2                       No Relation   \n",
       "3                       No Relation   \n",
       "4                           Student   \n",
       "\n",
       "0 Shooter had an accomplice who did not fire gun (Y/N) Hostages Taken (Y/N)  \\\n",
       "0                                                  N                      N   \n",
       "1                                                  N                      N   \n",
       "2                                                  N                      N   \n",
       "3                                                  N                      N   \n",
       "4                                                  Y                      N   \n",
       "\n",
       "0  Year Grade  \n",
       "0  2019   NaN  \n",
       "1  2019   NaN  \n",
       "2  2019   NaN  \n",
       "3  2019   NaN  \n",
       "4  2019   NaN  \n",
       "\n",
       "[5 rows x 50 columns]"
      ]
     },
     "execution_count": 156,
     "metadata": {},
     "output_type": "execute_result"
    }
   ],
   "source": [
    "df.head()"
   ]
  },
  {
   "cell_type": "code",
   "execution_count": null,
   "metadata": {},
   "outputs": [],
   "source": []
  }
 ],
 "metadata": {
  "kernelspec": {
   "display_name": "Python 3",
   "language": "python",
   "name": "python3"
  },
  "language_info": {
   "codemirror_mode": {
    "name": "ipython",
    "version": 3
   },
   "file_extension": ".py",
   "mimetype": "text/x-python",
   "name": "python",
   "nbconvert_exporter": "python",
   "pygments_lexer": "ipython3",
   "version": "3.7.1"
  }
 },
 "nbformat": 4,
 "nbformat_minor": 2
}
